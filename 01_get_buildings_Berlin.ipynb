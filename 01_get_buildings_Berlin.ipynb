{
 "cells": [
  {
   "cell_type": "code",
   "execution_count": null,
   "metadata": {},
   "outputs": [],
   "source": [
    "import networkx as nx\n",
    "import osmnx as ox\n",
    "\n",
    "ox.__version__"
   ]
  },
  {
   "cell_type": "code",
   "execution_count": null,
   "metadata": {},
   "outputs": [],
   "source": [
    "import matplotlib.pyplot as plt"
   ]
  },
  {
   "cell_type": "code",
   "execution_count": null,
   "metadata": {},
   "outputs": [],
   "source": [
    "# Define the place\n",
    "place_name = \"Berlin, Germany\"\n",
    "\n",
    "# Get the street network as a graph (all street types)\n",
    "G = ox.graph_from_place(place_name, network_type=\"drive\")\n",
    "\n",
    "# Plot the basic street network\n",
    "fig, ax = ox.plot_graph(G, show=False, close=False, bgcolor='white', node_size=0, edge_color='black')\n",
    "\n",
    "# Fetch leisure points as a GeoDataFrame\n",
    "tags = {\"leisure\": True}\n",
    "leisure_gdf = ox.features_from_place(place_name, tags)\n",
    "# Plot the network and leisure markers\n",
    "leisure_gdf.plot(ax=ax, color='red', alpha=0.6, label = 'leisure', markersize=10)\n",
    "\n",
    "tags = {\"shop\": True}\n",
    "shop_gdf = ox.features_from_place(place_name, tags)\n",
    "# Plot the network and leisure markers\n",
    "shop_gdf.plot(ax=ax, color='green', alpha=0.6, label = 'shop', markersize=10)\n",
    "\n",
    "tags = {\"public_transport\": True}\n",
    "transport_gdf = ox.features_from_place(place_name, tags)\n",
    "# Plot the network and leisure markers\n",
    "transport_gdf.plot(ax=ax, color='purple', alpha=0.6, label = 'public transport', markersize=10)\n",
    "\n",
    "plt.show()"
   ]
  },
  {
   "cell_type": "code",
   "execution_count": null,
   "metadata": {},
   "outputs": [],
   "source": [
    "# Define the place\n",
    "place_name = \"Berlin, Germany\"\n",
    "\n",
    "# Get the street network\n",
    "G = ox.graph_from_place(place_name, network_type=\"drive\")\n",
    "\n",
    "# Fetch landuse data (buildings tagged with 'landuse')\n",
    "tags = {\"landuse\": True, \"building\": True}  # Fetch all objects tagged with 'landuse'\n",
    "landuse_gdf = ox.features_from_place(place_name, tags)\n",
    "\n",
    "# Define a color map for landuse types\n",
    "landuse_colors = {\n",
    "    \"residential\": \"lightblue\",\n",
    "    \"commercial\": \"orange\",\n",
    "    \"industrial\": \"gray\",\n",
    "    \"retail\": \"purple\",\n",
    "    \"park\": \"green\"\n",
    "}\n",
    "\n",
    "# Assign colors based on the 'landuse' tag\n",
    "landuse_gdf['color'] = landuse_gdf['landuse'].map(landuse_colors).fillna(\"lightgray\")\n",
    "\n",
    "# Plot the street network\n",
    "fig, ax = ox.plot_graph(G, show=False, close=False, bgcolor='white', node_size=0, edge_color='black')\n",
    "\n",
    "# Overlay the landuse data with corresponding colors\n",
    "for landuse, color in landuse_colors.items():\n",
    "    subset = landuse_gdf[landuse_gdf['landuse'] == landuse]\n",
    "    if len(subset) <= 0:\n",
    "        continue\n",
    "    subset.plot(ax=ax, color=color, edgecolor='black', alpha=0.7, label=landuse)\n",
    "\n",
    "# Add a legend\n",
    "plt.legend(title=\"Landuse Type\", loc='upper right')\n",
    "plt.title(f\"Street Network and Landuse in {place_name}\")\n",
    "plt.show()"
   ]
  },
  {
   "cell_type": "code",
   "execution_count": null,
   "metadata": {},
   "outputs": [],
   "source": [
    "# Save GeoDataframe into Shapefiles\n",
    "landuse_gdf[landuse_gdf.geometry.type == \"Point\"][['geometry', 'addr:city', 'addr:postcode', 'amenity', 'building', 'name', 'short_name', 'landuse']].to_file(\"data/landuse_point_berlin.shp\")\n",
    "landuse_gdf[landuse_gdf.geometry.type == \"Polygon\"][['geometry', 'addr:city', 'addr:postcode', 'amenity', 'building', 'name', 'short_name', 'landuse']].to_file(\"data/landuse_polygon_berlin.shp\")"
   ]
  },
  {
   "cell_type": "code",
   "execution_count": null,
   "metadata": {},
   "outputs": [],
   "source": [
    "leisure_gdf[leisure_gdf.geometry.type == \"Point\"][['geometry', 'leisure', 'amenity', 'name', 'addr:city', 'addr:postcode']].to_file(\"data/feature_leisure_point_berlin.shp\")\n",
    "leisure_gdf[leisure_gdf.geometry.type == \"Polygon\"][['geometry', 'leisure', 'amenity', 'name', 'addr:city', 'addr:postcode']].to_file(\"data/feature_leisure_polygon_berlin.shp\")"
   ]
  },
  {
   "cell_type": "code",
   "execution_count": null,
   "metadata": {},
   "outputs": [],
   "source": [
    "shop_gdf[shop_gdf.geometry.type == \"Point\"][['geometry', 'shop', 'amenity', 'name', 'addr:city', 'addr:postcode']].to_file(\"data/feature_shop_point_berlin.shp\")\n",
    "shop_gdf[shop_gdf.geometry.type == \"Polygon\"][['geometry', 'shop', 'amenity', 'name', 'addr:city', 'addr:postcode']].to_file(\"data/feature_shop_polygon_berlin.shp\")"
   ]
  },
  {
   "cell_type": "code",
   "execution_count": null,
   "metadata": {},
   "outputs": [],
   "source": [
    "transport_gdf[transport_gdf.geometry.type == \"Point\"][['geometry', 'bus', 'light_rail', 'public_transport', 'railway', 'railway:station_category', 'amenity', 'name', 'addr:city', 'addr:postcode']].to_file(\"data/feature_transports_point_berlin.shp\")\n",
    "transport_gdf[transport_gdf.geometry.type == \"Polygon\"][['geometry', 'bus', 'light_rail', 'public_transport', 'railway', 'railway:station_category', 'amenity', 'name', 'addr:city', 'addr:postcode']].to_file(\"data/feature_transports_polygon_berlin.shp\")"
   ]
  }
 ],
 "metadata": {
  "kernelspec": {
   "display_name": "dads",
   "language": "python",
   "name": "python3"
  },
  "language_info": {
   "codemirror_mode": {
    "name": "ipython",
    "version": 3
   },
   "file_extension": ".py",
   "mimetype": "text/x-python",
   "name": "python",
   "nbconvert_exporter": "python",
   "pygments_lexer": "ipython3",
   "version": "3.9.13"
  }
 },
 "nbformat": 4,
 "nbformat_minor": 2
}
