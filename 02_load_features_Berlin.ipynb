{
 "cells": [
  {
   "cell_type": "code",
   "execution_count": 1,
   "metadata": {},
   "outputs": [
    {
     "data": {
      "text/plain": [
       "'2.0.1'"
      ]
     },
     "execution_count": 1,
     "metadata": {},
     "output_type": "execute_result"
    }
   ],
   "source": [
    "import networkx as nx\n",
    "import osmnx as ox\n",
    "\n",
    "ox.__version__"
   ]
  },
  {
   "cell_type": "code",
   "execution_count": 5,
   "metadata": {},
   "outputs": [],
   "source": [
    "import matplotlib.pyplot as plt\n",
    "import geopandas as gpd\n",
    "import pandas as pd"
   ]
  },
  {
   "cell_type": "code",
   "execution_count": 6,
   "metadata": {},
   "outputs": [],
   "source": [
    "# Load the geometry GeoDataFrame\n",
    "landuse_point_gdf = gpd.read_file(\"data/landuse_point_berlin.shp\")\n",
    "landuse_polygon_gdf = gpd.read_file(\"data/landuse_polygon_berlin.shp\")\n",
    "\n",
    "# Concatenate the two GeoDataFrames\n",
    "landuse_gdf = gpd.GeoDataFrame(pd.concat([landuse_point_gdf, landuse_polygon_gdf], ignore_index=True))\n",
    "# landuse_gdf"
   ]
  },
  {
   "cell_type": "code",
   "execution_count": 8,
   "metadata": {},
   "outputs": [],
   "source": [
    "leisure_point_gdf = gpd.read_file(\"data/feature_leisure_point_berlin.shp\")\n",
    "leisure_polygon_gdf = gpd.read_file(\"data/feature_leisure_polygon_berlin.shp\")\n",
    "\n",
    "# Concatenate the two GeoDataFrames\n",
    "leisure_gdf = gpd.GeoDataFrame(pd.concat([leisure_point_gdf, leisure_polygon_gdf], ignore_index=True))"
   ]
  },
  {
   "cell_type": "code",
   "execution_count": 9,
   "metadata": {},
   "outputs": [],
   "source": [
    "shop_point_gdf = gpd.read_file(\"data/feature_shop_point_berlin.shp\")\n",
    "shop_polygon_gdf = gpd.read_file(\"data/feature_shop_polygon_berlin.shp\")\n",
    "\n",
    "# Concatenate the two GeoDataFrames\n",
    "shop_gdf = gpd.GeoDataFrame(pd.concat([shop_point_gdf, shop_polygon_gdf], ignore_index=True))"
   ]
  },
  {
   "cell_type": "code",
   "execution_count": 10,
   "metadata": {},
   "outputs": [],
   "source": [
    "transports_point_gdf = gpd.read_file(\"data/feature_transports_point_berlin.shp\")\n",
    "transports_polygon_gdf = gpd.read_file(\"data/feature_transports_polygon_berlin.shp\")\n",
    "\n",
    "# Concatenate the two GeoDataFrames\n",
    "transports_gdf = gpd.GeoDataFrame(pd.concat([transports_point_gdf, transports_polygon_gdf], ignore_index=True))"
   ]
  }
 ],
 "metadata": {
  "kernelspec": {
   "display_name": "dads",
   "language": "python",
   "name": "python3"
  },
  "language_info": {
   "codemirror_mode": {
    "name": "ipython",
    "version": 3
   },
   "file_extension": ".py",
   "mimetype": "text/x-python",
   "name": "python",
   "nbconvert_exporter": "python",
   "pygments_lexer": "ipython3",
   "version": "3.9.13"
  }
 },
 "nbformat": 4,
 "nbformat_minor": 2
}
